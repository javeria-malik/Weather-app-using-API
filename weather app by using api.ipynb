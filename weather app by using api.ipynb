{
 "cells": [
  {
   "cell_type": "code",
   "execution_count": 8,
   "id": "df29e6d0",
   "metadata": {},
   "outputs": [],
   "source": [
    "import requests\n",
    "from tkinter import *\n",
    "from tkinter import ttk\n",
    "\n",
    "def data_get():\n",
    "    city = city_name_entry.get()  # Use the Entry widget's variable\n",
    "\n",
    "    # Your API key (replace with your own)\n",
    "    api_key = \"e2376a73f40ce48b2a3f2cb8102e3580\"\n",
    "\n",
    "    # Create the URL using the city name and API key\n",
    "    url = f\"http://api.openweathermap.org/data/2.5/weather?q={city}&appid={api_key}\"\n",
    "\n",
    "    # Get the weather data\n",
    "    response = requests.get(url)\n",
    "    data = response.json()\n",
    "\n",
    "    if response.status_code == 200:\n",
    "        w_label.config(text=data[\"weather\"][0][\"main\"])  # Remove font color setting\n",
    "        wb_label1.config(text=data[\"weather\"][0][\"description\"])  # Remove font color setting\n",
    "        temp_label1.config(text=str(data[\"main\"][\"temp\"] - 273.15) + \" °C\")  # Remove font color setting\n",
    "        per_label1.config(text=str(data[\"main\"][\"pressure\"]) + \" hPa\")  # Remove font color setting\n",
    "    else:\n",
    "        print(f\"Error: {data['message']}\")  # Handle API errors\n",
    "\n",
    "win = Tk()\n",
    "win.title(\"Software Weather App\")\n",
    "\n",
    "# Set background color to gray\n",
    "win.config(bg=\"gray\")\n",
    "\n",
    "win.geometry(\"500x570\")\n",
    "\n",
    "name_label = Label(win, text=\"Software Weather App\", font=(\"Time New Roman\", 30, \"bold\"))  # No font color change needed\n",
    "name_label.place(x=25, y=50, height=50, width=450)\n",
    "\n",
    "# Create an Entry widget to get the city name\n",
    "city_name_entry = Entry(win, width=50, font=(\"Time New Roman\", 18, \"bold\"))\n",
    "city_name_entry.place(x=25, y=120, height=50, width=450)\n",
    "\n",
    "w_label = Label(win, text=\"Weather Climate\", font=(\"Time New Roman\", 12))  # No font color change needed\n",
    "w_label.place(x=25, y=260, height=50, width=210)\n",
    "w_label1 = Label(win, text=\"\", font=(\"Time New Roman\", 12))  # No font color change needed\n",
    "w_label1.place(x=250, y=260, height=50, width=210)\n",
    "\n",
    "wb_label = Label(win, text=\"Weather Description\", font=(\"Time New Roman\", 12))  # No font color change needed\n",
    "wb_label.place(x=25, y=330, height=50, width=210)\n",
    "wb_label1 = Label(win, text=\"\", font=(\"Time New Roman\", 12))  # No font color change needed\n",
    "wb_label1.place(x=250, y=330, height=50, width=210)\n",
    "\n",
    "temp_label = Label(win, text=\"Temperature\", font=(\"Time New Roman\", 12))  # No font color change needed\n",
    "temp_label.place(x=25, y=400, height=50, width=210)\n",
    "temp_label1 = Label(win, text=\"\", font=(\"Time New Roman\", 12))  # No font color change needed\n",
    "temp_label1.place(x=250, y=400, height=50, width=210)\n",
    "\n",
    "per_label = Label(win, text=\"Pressure\", font=(\"Time New Roman\", 12))  # No font color change needed\n",
    "per_label.place(x=25, y=470, height=50, width=210)\n",
    "per_label1 = Label(win, text=\"\", font=(\"Time New Roman\", 12))  # No font color change needed\n",
    "per_label1.place(x=250, y=470, height=50, width=210)\n",
    "done_button = Button(win, text=\"Get Weather\", font=(\"Time New Roman\", 12, \"bold\"), command=data_get)\n",
    "done_button.place(x=200, y=190, height=50, width=100)"
   ]
  },
  {
   "cell_type": "code",
   "execution_count": 9,
   "id": "2ef9f2f9",
   "metadata": {},
   "outputs": [],
   "source": [
    "win.mainloop()"
   ]
  },
  {
   "cell_type": "code",
   "execution_count": null,
   "id": "430d843b",
   "metadata": {},
   "outputs": [],
   "source": []
  }
 ],
 "metadata": {
  "kernelspec": {
   "display_name": "Python 3 (ipykernel)",
   "language": "python",
   "name": "python3"
  },
  "language_info": {
   "codemirror_mode": {
    "name": "ipython",
    "version": 3
   },
   "file_extension": ".py",
   "mimetype": "text/x-python",
   "name": "python",
   "nbconvert_exporter": "python",
   "pygments_lexer": "ipython3",
   "version": "3.10.9"
  }
 },
 "nbformat": 4,
 "nbformat_minor": 5
}
